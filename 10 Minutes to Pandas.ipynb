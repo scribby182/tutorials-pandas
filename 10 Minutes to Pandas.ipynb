{
 "cells": [
  {
   "cell_type": "code",
   "execution_count": 7,
   "metadata": {
    "collapsed": true
   },
   "outputs": [],
   "source": [
    "import pandas as pd\n",
    "import matplotlib.pyplot as plt\n",
    "import numpy as np"
   ]
  },
  {
   "cell_type": "code",
   "execution_count": 12,
   "metadata": {
    "collapsed": false
   },
   "outputs": [
    {
     "name": "stdout",
     "output_type": "stream",
     "text": [
      "                   A         B         C         D\n",
      "2013-01-01 -0.316165  2.041404 -1.541106 -0.314456\n",
      "2013-01-02  1.279374  1.625885 -2.762839 -0.217927\n",
      "2013-01-03  0.166750  1.146947  1.815725 -1.685347\n",
      "2013-01-04  1.576008 -0.087365 -0.897721 -1.128625\n",
      "2013-01-05  0.425840  0.679730 -1.235843 -1.292090\n",
      "2013-01-06  0.479409  0.882354  1.348116  0.463950\n"
     ]
    }
   ],
   "source": [
    "# Add in previous 10 min to pandas above here\n",
    "dates = pd.date_range('20130101', periods=6)\n",
    "df = pd.DataFrame(np.random.randn(6,4), index=dates, columns=list('ABCD'))\n",
    "print(df)"
   ]
  },
  {
   "cell_type": "markdown",
   "metadata": {},
   "source": [
    "## Missing Data"
   ]
  },
  {
   "cell_type": "code",
   "execution_count": 3,
   "metadata": {
    "collapsed": true
   },
   "outputs": [],
   "source": [
    "# Pandas uses np.nan to represent missing data.  By default it is excluded from computations"
   ]
  },
  {
   "cell_type": "code",
   "execution_count": 25,
   "metadata": {
    "collapsed": false
   },
   "outputs": [
    {
     "name": "stdout",
     "output_type": "stream",
     "text": [
      "                   A         B         C         D   E\n",
      "2013-01-01 -0.316165  2.041404 -1.541106 -0.314456 NaN\n",
      "2013-01-02  1.279374  1.625885 -2.762839 -0.217927 NaN\n",
      "2013-01-03  0.166750  1.146947  1.815725 -1.685347 NaN\n",
      "2013-01-04  1.576008 -0.087365 -0.897721 -1.128625 NaN\n",
      "          A         B         C         D\n",
      "a  0.071526  1.146574  0.749510 -0.210909\n",
      "b -0.853985  0.775651  1.104279 -0.262831\n",
      "c  0.445351 -1.260277 -0.441421 -0.431293\n",
      "d  0.100737 -0.511751 -0.182030  0.219122\n",
      "e -0.422145  1.068714 -0.481592  0.462071\n",
      "f -0.072847 -0.579686  0.246952  0.367704\n",
      "          A         B         C         D  More\n",
      "a  0.071526  1.146574  0.749510 -0.210909   NaN\n",
      "c  0.445351 -1.260277 -0.441421 -0.431293   NaN\n",
      "x       NaN       NaN       NaN       NaN   NaN\n",
      "y       NaN       NaN       NaN       NaN   NaN\n"
     ]
    }
   ],
   "source": [
    "# Re-indexing changes/adds/deletes the index on a specified axis, returning a copy\n",
    "# of the data\n",
    "# So this just lets you say \"these are my indices, columns, \n",
    "# preserve what matches and make what doesn't...?\n",
    "df1 = df.reindex(index=dates[0:4],columns=list(df.columns) + ['E'])\n",
    "print(df1)\n",
    "\n",
    "df2a = pd.DataFrame(np.random.randn(6,4),index=list(\"abcdef\"),columns=list('ABCD'))\n",
    "print(df2a)\n",
    "\n",
    "df2b = df2a.reindex(index=['a','c','x','y'], columns=list(df2a.columns) + [\"More\"])\n",
    "print(df2b)"
   ]
  },
  {
   "cell_type": "code",
   "execution_count": 28,
   "metadata": {
    "collapsed": false
   },
   "outputs": [
    {
     "data": {
      "text/html": [
       "<div>\n",
       "<table border=\"1\" class=\"dataframe\">\n",
       "  <thead>\n",
       "    <tr style=\"text-align: right;\">\n",
       "      <th></th>\n",
       "      <th>A</th>\n",
       "      <th>B</th>\n",
       "      <th>C</th>\n",
       "      <th>D</th>\n",
       "      <th>E</th>\n",
       "    </tr>\n",
       "  </thead>\n",
       "  <tbody>\n",
       "    <tr>\n",
       "      <th>2013-01-01</th>\n",
       "      <td>-0.316165</td>\n",
       "      <td>2.041404</td>\n",
       "      <td>-1.541106</td>\n",
       "      <td>-0.314456</td>\n",
       "      <td>1</td>\n",
       "    </tr>\n",
       "    <tr>\n",
       "      <th>2013-01-02</th>\n",
       "      <td>1.279374</td>\n",
       "      <td>1.625885</td>\n",
       "      <td>-2.762839</td>\n",
       "      <td>-0.217927</td>\n",
       "      <td>1</td>\n",
       "    </tr>\n",
       "  </tbody>\n",
       "</table>\n",
       "</div>"
      ],
      "text/plain": [
       "                   A         B         C         D  E\n",
       "2013-01-01 -0.316165  2.041404 -1.541106 -0.314456  1\n",
       "2013-01-02  1.279374  1.625885 -2.762839 -0.217927  1"
      ]
     },
     "execution_count": 28,
     "metadata": {},
     "output_type": "execute_result"
    }
   ],
   "source": [
    "# Drop rows that have missing data\n",
    "df1.loc[dates[0]:dates[1],'E'] = 1\n",
    "\n",
    "df1.dropna(how=\"any\")\n"
   ]
  },
  {
   "cell_type": "code",
   "execution_count": 29,
   "metadata": {
    "collapsed": false
   },
   "outputs": [
    {
     "name": "stdout",
     "output_type": "stream",
     "text": [
      "                   A         B         C         D   E\n",
      "2013-01-01 -0.316165  2.041404 -1.541106 -0.314456   1\n",
      "2013-01-02  1.279374  1.625885 -2.762839 -0.217927   1\n",
      "2013-01-03  0.166750  1.146947  1.815725 -1.685347 NaN\n",
      "2013-01-04  1.576008 -0.087365 -0.897721 -1.128625 NaN\n"
     ]
    }
   ],
   "source": [
    "# Note that this doesn't change df1, it just returns a copy that is printed\n",
    "print(df1)"
   ]
  },
  {
   "cell_type": "code",
   "execution_count": 30,
   "metadata": {
    "collapsed": false
   },
   "outputs": [
    {
     "data": {
      "text/html": [
       "<div>\n",
       "<table border=\"1\" class=\"dataframe\">\n",
       "  <thead>\n",
       "    <tr style=\"text-align: right;\">\n",
       "      <th></th>\n",
       "      <th>A</th>\n",
       "      <th>B</th>\n",
       "      <th>C</th>\n",
       "      <th>D</th>\n",
       "      <th>E</th>\n",
       "    </tr>\n",
       "  </thead>\n",
       "  <tbody>\n",
       "    <tr>\n",
       "      <th>2013-01-01</th>\n",
       "      <td>-0.316165</td>\n",
       "      <td>2.041404</td>\n",
       "      <td>-1.541106</td>\n",
       "      <td>-0.314456</td>\n",
       "      <td>1</td>\n",
       "    </tr>\n",
       "    <tr>\n",
       "      <th>2013-01-02</th>\n",
       "      <td>1.279374</td>\n",
       "      <td>1.625885</td>\n",
       "      <td>-2.762839</td>\n",
       "      <td>-0.217927</td>\n",
       "      <td>1</td>\n",
       "    </tr>\n",
       "    <tr>\n",
       "      <th>2013-01-03</th>\n",
       "      <td>0.166750</td>\n",
       "      <td>1.146947</td>\n",
       "      <td>1.815725</td>\n",
       "      <td>-1.685347</td>\n",
       "      <td>5</td>\n",
       "    </tr>\n",
       "    <tr>\n",
       "      <th>2013-01-04</th>\n",
       "      <td>1.576008</td>\n",
       "      <td>-0.087365</td>\n",
       "      <td>-0.897721</td>\n",
       "      <td>-1.128625</td>\n",
       "      <td>5</td>\n",
       "    </tr>\n",
       "  </tbody>\n",
       "</table>\n",
       "</div>"
      ],
      "text/plain": [
       "                   A         B         C         D  E\n",
       "2013-01-01 -0.316165  2.041404 -1.541106 -0.314456  1\n",
       "2013-01-02  1.279374  1.625885 -2.762839 -0.217927  1\n",
       "2013-01-03  0.166750  1.146947  1.815725 -1.685347  5\n",
       "2013-01-04  1.576008 -0.087365 -0.897721 -1.128625  5"
      ]
     },
     "execution_count": 30,
     "metadata": {},
     "output_type": "execute_result"
    }
   ],
   "source": [
    "# Or fill missing data with a value\n",
    "df1.fillna(value=5)\n",
    "\n",
    "# This can be fancier and fill based on a function or list of values"
   ]
  },
  {
   "cell_type": "code",
   "execution_count": 32,
   "metadata": {
    "collapsed": false
   },
   "outputs": [
    {
     "data": {
      "text/html": [
       "<div>\n",
       "<table border=\"1\" class=\"dataframe\">\n",
       "  <thead>\n",
       "    <tr style=\"text-align: right;\">\n",
       "      <th></th>\n",
       "      <th>A</th>\n",
       "      <th>B</th>\n",
       "      <th>C</th>\n",
       "      <th>D</th>\n",
       "      <th>E</th>\n",
       "    </tr>\n",
       "  </thead>\n",
       "  <tbody>\n",
       "    <tr>\n",
       "      <th>2013-01-01</th>\n",
       "      <td>False</td>\n",
       "      <td>False</td>\n",
       "      <td>False</td>\n",
       "      <td>False</td>\n",
       "      <td>False</td>\n",
       "    </tr>\n",
       "    <tr>\n",
       "      <th>2013-01-02</th>\n",
       "      <td>False</td>\n",
       "      <td>False</td>\n",
       "      <td>False</td>\n",
       "      <td>False</td>\n",
       "      <td>False</td>\n",
       "    </tr>\n",
       "    <tr>\n",
       "      <th>2013-01-03</th>\n",
       "      <td>False</td>\n",
       "      <td>False</td>\n",
       "      <td>False</td>\n",
       "      <td>False</td>\n",
       "      <td>True</td>\n",
       "    </tr>\n",
       "    <tr>\n",
       "      <th>2013-01-04</th>\n",
       "      <td>False</td>\n",
       "      <td>False</td>\n",
       "      <td>False</td>\n",
       "      <td>False</td>\n",
       "      <td>True</td>\n",
       "    </tr>\n",
       "  </tbody>\n",
       "</table>\n",
       "</div>"
      ],
      "text/plain": [
       "                A      B      C      D      E\n",
       "2013-01-01  False  False  False  False  False\n",
       "2013-01-02  False  False  False  False  False\n",
       "2013-01-03  False  False  False  False   True\n",
       "2013-01-04  False  False  False  False   True"
      ]
     },
     "execution_count": 32,
     "metadata": {},
     "output_type": "execute_result"
    }
   ],
   "source": [
    "# Get the boolean mask where values are nan\n",
    "pd.isnull(df1)"
   ]
  },
  {
   "cell_type": "markdown",
   "metadata": {},
   "source": [
    "## Operations\n"
   ]
  },
  {
   "cell_type": "code",
   "execution_count": 33,
   "metadata": {
    "collapsed": false
   },
   "outputs": [
    {
     "data": {
      "text/plain": [
       "A    0.601869\n",
       "B    1.048159\n",
       "C   -0.545611\n",
       "D   -0.695749\n",
       "dtype: float64"
      ]
     },
     "execution_count": 33,
     "metadata": {},
     "output_type": "execute_result"
    }
   ],
   "source": [
    "# In general, operations exclude missing data\n",
    "df.mean()"
   ]
  },
  {
   "cell_type": "code",
   "execution_count": 35,
   "metadata": {
    "collapsed": false
   },
   "outputs": [
    {
     "data": {
      "text/plain": [
       "2013-01-01   -0.032581\n",
       "2013-01-02   -0.018877\n",
       "2013-01-03    0.361019\n",
       "2013-01-04   -0.134426\n",
       "2013-01-05   -0.355591\n",
       "2013-01-06    0.793457\n",
       "Freq: D, dtype: float64"
      ]
     },
     "execution_count": 35,
     "metadata": {},
     "output_type": "execute_result"
    }
   ],
   "source": [
    "# Or on the other axis\n",
    "df.mean(1)"
   ]
  },
  {
   "cell_type": "code",
   "execution_count": 44,
   "metadata": {
    "collapsed": false
   },
   "outputs": [
    {
     "name": "stdout",
     "output_type": "stream",
     "text": [
      "2013-01-01   NaN\n",
      "2013-01-02   NaN\n",
      "2013-01-03     1\n",
      "2013-01-04     3\n",
      "2013-01-05     5\n",
      "2013-01-06   NaN\n",
      "Freq: D, dtype: float64\n"
     ]
    }
   ],
   "source": [
    "# Create a series, then shift it by 2 which moves it down 2 and adds NaN at the top\n",
    "s = pd.Series([1,3,5,np.nan,6,8], index=dates).shift(2)\n",
    "print(s)"
   ]
  },
  {
   "cell_type": "code",
   "execution_count": 47,
   "metadata": {
    "collapsed": false
   },
   "outputs": [
    {
     "name": "stdout",
     "output_type": "stream",
     "text": [
      "                   A         B         C         D\n",
      "2013-01-01       NaN       NaN       NaN       NaN\n",
      "2013-01-02       NaN       NaN       NaN       NaN\n",
      "2013-01-03 -0.833250  0.146947  0.815725 -2.685347\n",
      "2013-01-04 -1.423992 -3.087365 -3.897721 -4.128625\n",
      "2013-01-05 -4.574160 -4.320270 -6.235843 -6.292090\n",
      "2013-01-06       NaN       NaN       NaN       NaN\n"
     ]
    }
   ],
   "source": [
    "# .sub is SUBTRACTION.  So this subtracts the above data series and broadcasts\n",
    "# it in the columns direction to subtract from all columns\n",
    "\n",
    "print(df.sub(s,axis='index'))\n"
   ]
  },
  {
   "cell_type": "code",
   "execution_count": 50,
   "metadata": {
    "collapsed": false
   },
   "outputs": [
    {
     "name": "stdout",
     "output_type": "stream",
     "text": [
      "                   A         B         C         D\n",
      "2013-01-01 -0.316165  2.041404 -1.541106 -0.314456\n",
      "2013-01-02  0.963209  3.667289 -4.303945 -0.532383\n",
      "2013-01-03  1.129959  4.814236 -2.488219 -2.217730\n",
      "2013-01-04  2.705967  4.726871 -3.385941 -3.346354\n",
      "2013-01-05  3.131807  5.406601 -4.621784 -4.638445\n",
      "2013-01-06  3.611216  6.288955 -3.273667 -4.174495\n",
      "                   A         B         C         D\n",
      "2013-01-01 -0.316165  1.725239  0.184133 -0.130323\n",
      "2013-01-02  1.279374  2.905259  0.142420 -0.075507\n",
      "2013-01-03  0.166750  1.313697  3.129422  1.444075\n",
      "2013-01-04  1.576008  1.488644  0.590922 -0.537702\n",
      "2013-01-05  0.425840  1.105570 -0.130273 -1.422363\n",
      "2013-01-06  0.479409  1.361763  2.709880  3.173830\n"
     ]
    }
   ],
   "source": [
    "# Apply does functions on the data\n",
    "print(df.apply(np.cumsum))\n",
    "\n",
    "# By default, each column is passed to the function.  You can use axis to change that\n",
    "print(df.apply(np.cumsum,axis=1))\n"
   ]
  },
  {
   "cell_type": "code",
   "execution_count": 51,
   "metadata": {
    "collapsed": false
   },
   "outputs": [
    {
     "name": "stdout",
     "output_type": "stream",
     "text": [
      "A    1.892173\n",
      "B    2.128768\n",
      "C    4.578564\n",
      "D    2.149297\n",
      "dtype: float64\n"
     ]
    }
   ],
   "source": [
    "# Or apply with a custom function\n",
    "print(df.apply(lambda x: max(x) - min(x)))"
   ]
  },
  {
   "cell_type": "markdown",
   "metadata": {},
   "source": [
    "## Histogramming"
   ]
  },
  {
   "cell_type": "code",
   "execution_count": 63,
   "metadata": {
    "collapsed": false
   },
   "outputs": [
    {
     "name": "stdout",
     "output_type": "stream",
     "text": [
      "2    10\n",
      "5     9\n",
      "0     9\n",
      "6     7\n",
      "4     7\n",
      "3     5\n",
      "1     3\n",
      "dtype: int64\n"
     ]
    }
   ],
   "source": [
    "# Make a series of data.  It will be 50 random integers greater than or equal\n",
    "# to 0 and LESS than 7\n",
    "s = pd.Series(np.random.randint(0,7,size=50))\n",
    "\n",
    "# Count how many of each\n",
    "print(s.value_counts())\n",
    "\n",
    "# Make a histogram plot\n",
    "s.hist(bins=7)\n",
    "plt.show()\n"
   ]
  },
  {
   "cell_type": "code",
   "execution_count": 66,
   "metadata": {
    "collapsed": false
   },
   "outputs": [
    {
     "data": {
      "text/plain": [
       "0       a\n",
       "1       b\n",
       "2       c\n",
       "3    aaba\n",
       "4    baca\n",
       "5     NaN\n",
       "6    caba\n",
       "7     dog\n",
       "8     cat\n",
       "dtype: object"
      ]
     },
     "execution_count": 66,
     "metadata": {},
     "output_type": "execute_result"
    }
   ],
   "source": [
    "# String methods\n",
    "# series.str attribute has many string processing methods, such as\n",
    "s = pd.Series(['A', 'B', 'C', 'Aaba', 'Baca', np.nan, 'CABA', 'dog', 'cat'])\n",
    "s.str.lower()"
   ]
  },
  {
   "cell_type": "markdown",
   "metadata": {},
   "source": [
    "## Merge\n"
   ]
  },
  {
   "cell_type": "code",
   "execution_count": 68,
   "metadata": {
    "collapsed": false
   },
   "outputs": [
    {
     "data": {
      "text/html": [
       "<div>\n",
       "<table border=\"1\" class=\"dataframe\">\n",
       "  <thead>\n",
       "    <tr style=\"text-align: right;\">\n",
       "      <th></th>\n",
       "      <th>0</th>\n",
       "      <th>1</th>\n",
       "      <th>2</th>\n",
       "      <th>3</th>\n",
       "    </tr>\n",
       "  </thead>\n",
       "  <tbody>\n",
       "    <tr>\n",
       "      <th>0</th>\n",
       "      <td>-1.106120</td>\n",
       "      <td>-0.573603</td>\n",
       "      <td>1.301528</td>\n",
       "      <td>-1.733162</td>\n",
       "    </tr>\n",
       "    <tr>\n",
       "      <th>1</th>\n",
       "      <td>-1.585464</td>\n",
       "      <td>0.920605</td>\n",
       "      <td>-0.525062</td>\n",
       "      <td>-1.821333</td>\n",
       "    </tr>\n",
       "    <tr>\n",
       "      <th>2</th>\n",
       "      <td>0.254880</td>\n",
       "      <td>-0.489982</td>\n",
       "      <td>0.693557</td>\n",
       "      <td>0.983896</td>\n",
       "    </tr>\n",
       "    <tr>\n",
       "      <th>3</th>\n",
       "      <td>0.037903</td>\n",
       "      <td>-0.171477</td>\n",
       "      <td>0.355337</td>\n",
       "      <td>-0.468355</td>\n",
       "    </tr>\n",
       "    <tr>\n",
       "      <th>4</th>\n",
       "      <td>1.288597</td>\n",
       "      <td>0.577573</td>\n",
       "      <td>0.948765</td>\n",
       "      <td>-1.697924</td>\n",
       "    </tr>\n",
       "    <tr>\n",
       "      <th>5</th>\n",
       "      <td>-0.347880</td>\n",
       "      <td>0.880606</td>\n",
       "      <td>0.922241</td>\n",
       "      <td>0.695460</td>\n",
       "    </tr>\n",
       "    <tr>\n",
       "      <th>6</th>\n",
       "      <td>-0.662972</td>\n",
       "      <td>1.192452</td>\n",
       "      <td>0.624194</td>\n",
       "      <td>-0.438886</td>\n",
       "    </tr>\n",
       "    <tr>\n",
       "      <th>7</th>\n",
       "      <td>-0.431332</td>\n",
       "      <td>-0.406365</td>\n",
       "      <td>0.212968</td>\n",
       "      <td>1.309688</td>\n",
       "    </tr>\n",
       "    <tr>\n",
       "      <th>8</th>\n",
       "      <td>1.837942</td>\n",
       "      <td>-0.237424</td>\n",
       "      <td>-1.992911</td>\n",
       "      <td>1.848963</td>\n",
       "    </tr>\n",
       "    <tr>\n",
       "      <th>9</th>\n",
       "      <td>0.876766</td>\n",
       "      <td>1.063090</td>\n",
       "      <td>-0.997695</td>\n",
       "      <td>-1.650354</td>\n",
       "    </tr>\n",
       "  </tbody>\n",
       "</table>\n",
       "</div>"
      ],
      "text/plain": [
       "          0         1         2         3\n",
       "0 -1.106120 -0.573603  1.301528 -1.733162\n",
       "1 -1.585464  0.920605 -0.525062 -1.821333\n",
       "2  0.254880 -0.489982  0.693557  0.983896\n",
       "3  0.037903 -0.171477  0.355337 -0.468355\n",
       "4  1.288597  0.577573  0.948765 -1.697924\n",
       "5 -0.347880  0.880606  0.922241  0.695460\n",
       "6 -0.662972  1.192452  0.624194 -0.438886\n",
       "7 -0.431332 -0.406365  0.212968  1.309688\n",
       "8  1.837942 -0.237424 -1.992911  1.848963\n",
       "9  0.876766  1.063090 -0.997695 -1.650354"
      ]
     },
     "execution_count": 68,
     "metadata": {},
     "output_type": "execute_result"
    }
   ],
   "source": [
    "# series, dataframes, and panel objects can be merged in various ways.  \n",
    "\n",
    "# Concatenation:\n",
    "df = pd.DataFrame(np.random.randn(10,4))\n",
    "df"
   ]
  },
  {
   "cell_type": "code",
   "execution_count": 73,
   "metadata": {
    "collapsed": false
   },
   "outputs": [
    {
     "name": "stdout",
     "output_type": "stream",
     "text": [
      "[          0         1         2         3\n",
      "0 -1.106120 -0.573603  1.301528 -1.733162\n",
      "1 -1.585464  0.920605 -0.525062 -1.821333\n",
      "2  0.254880 -0.489982  0.693557  0.983896,           0         1         2         3\n",
      "3  0.037903 -0.171477  0.355337 -0.468355\n",
      "4  1.288597  0.577573  0.948765 -1.697924\n",
      "5 -0.347880  0.880606  0.922241  0.695460\n",
      "6 -0.662972  1.192452  0.624194 -0.438886,           0         1         2         3\n",
      "7 -0.431332 -0.406365  0.212968  1.309688\n",
      "8  1.837942 -0.237424 -1.992911  1.848963\n",
      "9  0.876766  1.063090 -0.997695 -1.650354]\n",
      "          0         1         2         3\n",
      "0 -1.106120 -0.573603  1.301528 -1.733162\n",
      "1 -1.585464  0.920605 -0.525062 -1.821333\n",
      "2  0.254880 -0.489982  0.693557  0.983896\n",
      "3  0.037903 -0.171477  0.355337 -0.468355\n",
      "4  1.288597  0.577573  0.948765 -1.697924\n",
      "5 -0.347880  0.880606  0.922241  0.695460\n",
      "6 -0.662972  1.192452  0.624194 -0.438886\n",
      "7 -0.431332 -0.406365  0.212968  1.309688\n",
      "8  1.837942 -0.237424 -1.992911  1.848963\n",
      "9  0.876766  1.063090 -0.997695 -1.650354\n"
     ]
    }
   ],
   "source": [
    "# Split it up to be stiched later\n",
    "pieces = [df.iloc[:3], df.iloc[3:7], df.iloc[7:]]\n",
    "print(pieces)\n",
    "print(pd.concat(pieces))"
   ]
  },
  {
   "cell_type": "code",
   "execution_count": 84,
   "metadata": {
    "collapsed": false
   },
   "outputs": [],
   "source": [
    "# You can append things to a df as well\n",
    "df = pd.DataFrame(np.random.randn(8,4), columns=list(\"ABCD\"))\n",
    "df2 = pd.DataFrame(columns=list(\"ABCD\"))\n",
    "df2.loc[8] = [1,2,3,4]\n",
    "df3 = pd.DataFrame(columns=list(\"ABCD\"))\n",
    "df3.loc[2] = [1,2,3,4]\n"
   ]
  },
  {
   "cell_type": "code",
   "execution_count": 81,
   "metadata": {
    "collapsed": false
   },
   "outputs": [
    {
     "name": "stdout",
     "output_type": "stream",
     "text": [
      "          A         B         C         D\n",
      "0 -0.704960 -0.498952  1.202328 -0.924084\n",
      "1 -0.292311 -0.341438  1.526790 -0.500977\n",
      "2 -0.381087  0.190235  0.390492 -0.953898\n",
      "3  0.091608 -0.664535  0.464925 -0.113181\n",
      "4 -0.598468 -0.256839 -0.704788  0.265209\n",
      "5 -0.941051  0.657276  1.038828 -0.869920\n",
      "6  0.958211  0.687756 -1.226416 -0.657060\n",
      "7  1.524038 -0.459871 -0.582324 -0.573476\n",
      "   A  B  C  D\n",
      "8  1  2  3  4\n"
     ]
    }
   ],
   "source": [
    "print(df)\n",
    "print(df2)\n"
   ]
  },
  {
   "cell_type": "code",
   "execution_count": 87,
   "metadata": {
    "collapsed": false
   },
   "outputs": [
    {
     "name": "stdout",
     "output_type": "stream",
     "text": [
      "          A         B         C         D\n",
      "0 -0.077754 -0.185539  0.864027 -0.389795\n",
      "1 -1.543705 -0.026138 -0.955664  0.701571\n",
      "2 -0.867363  0.659645  0.711319  0.673688\n",
      "3 -0.088376 -0.323125 -0.876222 -0.491325\n",
      "4  0.227271 -2.707598  0.188739  0.027658\n",
      "5 -0.176127 -1.236249 -0.770894  0.759116\n",
      "6  1.254437 -0.742588  1.730619  1.030161\n",
      "7 -1.953758  0.565598  0.916735 -0.673808\n",
      "8  1.000000  2.000000  3.000000  4.000000\n",
      "          A         B         C         D\n",
      "0 -0.077754 -0.185539  0.864027 -0.389795\n",
      "1 -1.543705 -0.026138 -0.955664  0.701571\n",
      "2 -0.867363  0.659645  0.711319  0.673688\n",
      "3 -0.088376 -0.323125 -0.876222 -0.491325\n",
      "4  0.227271 -2.707598  0.188739  0.027658\n",
      "5 -0.176127 -1.236249 -0.770894  0.759116\n",
      "6  1.254437 -0.742588  1.730619  1.030161\n",
      "7 -1.953758  0.565598  0.916735 -0.673808\n",
      "2  1.000000  2.000000  3.000000  4.000000\n"
     ]
    }
   ],
   "source": [
    "print(df.append(df2))\n",
    "print(df.append(df3))"
   ]
  },
  {
   "cell_type": "code",
   "execution_count": 88,
   "metadata": {
    "collapsed": false
   },
   "outputs": [
    {
     "data": {
      "text/html": [
       "<div>\n",
       "<table border=\"1\" class=\"dataframe\">\n",
       "  <thead>\n",
       "    <tr style=\"text-align: right;\">\n",
       "      <th></th>\n",
       "      <th>A</th>\n",
       "      <th>B</th>\n",
       "      <th>C</th>\n",
       "      <th>D</th>\n",
       "    </tr>\n",
       "  </thead>\n",
       "  <tbody>\n",
       "    <tr>\n",
       "      <th>0</th>\n",
       "      <td>-0.077754</td>\n",
       "      <td>-0.185539</td>\n",
       "      <td>0.864027</td>\n",
       "      <td>-0.389795</td>\n",
       "    </tr>\n",
       "    <tr>\n",
       "      <th>1</th>\n",
       "      <td>-1.543705</td>\n",
       "      <td>-0.026138</td>\n",
       "      <td>-0.955664</td>\n",
       "      <td>0.701571</td>\n",
       "    </tr>\n",
       "    <tr>\n",
       "      <th>2</th>\n",
       "      <td>-0.867363</td>\n",
       "      <td>0.659645</td>\n",
       "      <td>0.711319</td>\n",
       "      <td>0.673688</td>\n",
       "    </tr>\n",
       "    <tr>\n",
       "      <th>3</th>\n",
       "      <td>-0.088376</td>\n",
       "      <td>-0.323125</td>\n",
       "      <td>-0.876222</td>\n",
       "      <td>-0.491325</td>\n",
       "    </tr>\n",
       "    <tr>\n",
       "      <th>4</th>\n",
       "      <td>0.227271</td>\n",
       "      <td>-2.707598</td>\n",
       "      <td>0.188739</td>\n",
       "      <td>0.027658</td>\n",
       "    </tr>\n",
       "    <tr>\n",
       "      <th>5</th>\n",
       "      <td>-0.176127</td>\n",
       "      <td>-1.236249</td>\n",
       "      <td>-0.770894</td>\n",
       "      <td>0.759116</td>\n",
       "    </tr>\n",
       "    <tr>\n",
       "      <th>6</th>\n",
       "      <td>1.254437</td>\n",
       "      <td>-0.742588</td>\n",
       "      <td>1.730619</td>\n",
       "      <td>1.030161</td>\n",
       "    </tr>\n",
       "    <tr>\n",
       "      <th>7</th>\n",
       "      <td>-1.953758</td>\n",
       "      <td>0.565598</td>\n",
       "      <td>0.916735</td>\n",
       "      <td>-0.673808</td>\n",
       "    </tr>\n",
       "    <tr>\n",
       "      <th>8</th>\n",
       "      <td>1.000000</td>\n",
       "      <td>2.000000</td>\n",
       "      <td>3.000000</td>\n",
       "      <td>4.000000</td>\n",
       "    </tr>\n",
       "  </tbody>\n",
       "</table>\n",
       "</div>"
      ],
      "text/plain": [
       "          A         B         C         D\n",
       "0 -0.077754 -0.185539  0.864027 -0.389795\n",
       "1 -1.543705 -0.026138 -0.955664  0.701571\n",
       "2 -0.867363  0.659645  0.711319  0.673688\n",
       "3 -0.088376 -0.323125 -0.876222 -0.491325\n",
       "4  0.227271 -2.707598  0.188739  0.027658\n",
       "5 -0.176127 -1.236249 -0.770894  0.759116\n",
       "6  1.254437 -0.742588  1.730619  1.030161\n",
       "7 -1.953758  0.565598  0.916735 -0.673808\n",
       "8  1.000000  2.000000  3.000000  4.000000"
      ]
     },
     "execution_count": 88,
     "metadata": {},
     "output_type": "execute_result"
    }
   ],
   "source": [
    "# Or append but ignore the row index (ot automatically generates it somehow)\n",
    "df.append(df3,ignore_index=True)\n"
   ]
  },
  {
   "cell_type": "markdown",
   "metadata": {},
   "source": [
    "## Grouping\n"
   ]
  },
  {
   "cell_type": "code",
   "execution_count": 91,
   "metadata": {
    "collapsed": false
   },
   "outputs": [
    {
     "data": {
      "text/html": [
       "<div>\n",
       "<table border=\"1\" class=\"dataframe\">\n",
       "  <thead>\n",
       "    <tr style=\"text-align: right;\">\n",
       "      <th></th>\n",
       "      <th>A</th>\n",
       "      <th>B</th>\n",
       "      <th>C</th>\n",
       "      <th>D</th>\n",
       "    </tr>\n",
       "  </thead>\n",
       "  <tbody>\n",
       "    <tr>\n",
       "      <th>0</th>\n",
       "      <td>foo</td>\n",
       "      <td>one</td>\n",
       "      <td>-1.103344</td>\n",
       "      <td>0.521984</td>\n",
       "    </tr>\n",
       "    <tr>\n",
       "      <th>1</th>\n",
       "      <td>bar</td>\n",
       "      <td>one</td>\n",
       "      <td>-0.760105</td>\n",
       "      <td>-0.016882</td>\n",
       "    </tr>\n",
       "    <tr>\n",
       "      <th>2</th>\n",
       "      <td>foo</td>\n",
       "      <td>two</td>\n",
       "      <td>0.565836</td>\n",
       "      <td>-2.333418</td>\n",
       "    </tr>\n",
       "    <tr>\n",
       "      <th>3</th>\n",
       "      <td>bar</td>\n",
       "      <td>three</td>\n",
       "      <td>0.147169</td>\n",
       "      <td>0.229366</td>\n",
       "    </tr>\n",
       "    <tr>\n",
       "      <th>4</th>\n",
       "      <td>foo</td>\n",
       "      <td>two</td>\n",
       "      <td>0.816052</td>\n",
       "      <td>-0.618458</td>\n",
       "    </tr>\n",
       "    <tr>\n",
       "      <th>5</th>\n",
       "      <td>bar</td>\n",
       "      <td>two</td>\n",
       "      <td>-0.235383</td>\n",
       "      <td>-0.337195</td>\n",
       "    </tr>\n",
       "    <tr>\n",
       "      <th>6</th>\n",
       "      <td>foo</td>\n",
       "      <td>one</td>\n",
       "      <td>0.063023</td>\n",
       "      <td>0.082216</td>\n",
       "    </tr>\n",
       "    <tr>\n",
       "      <th>7</th>\n",
       "      <td>foo</td>\n",
       "      <td>three</td>\n",
       "      <td>-0.526427</td>\n",
       "      <td>1.966493</td>\n",
       "    </tr>\n",
       "  </tbody>\n",
       "</table>\n",
       "</div>"
      ],
      "text/plain": [
       "     A      B         C         D\n",
       "0  foo    one -1.103344  0.521984\n",
       "1  bar    one -0.760105 -0.016882\n",
       "2  foo    two  0.565836 -2.333418\n",
       "3  bar  three  0.147169  0.229366\n",
       "4  foo    two  0.816052 -0.618458\n",
       "5  bar    two -0.235383 -0.337195\n",
       "6  foo    one  0.063023  0.082216\n",
       "7  foo  three -0.526427  1.966493"
      ]
     },
     "execution_count": 91,
     "metadata": {},
     "output_type": "execute_result"
    }
   ],
   "source": [
    "df = pd.DataFrame({'A' : ['foo', 'bar', 'foo', 'bar',\n",
    "                         'foo', 'bar', 'foo', 'foo'],\n",
    "                   'B' : ['one', 'one', 'two', 'three',\n",
    "                          'two', 'two', 'one', 'three'],\n",
    "                   'C' : np.random.randn(8),\n",
    "                   'D' : np.random.randn(8)})\n",
    "df"
   ]
  },
  {
   "cell_type": "code",
   "execution_count": 94,
   "metadata": {
    "collapsed": false
   },
   "outputs": [
    {
     "name": "stdout",
     "output_type": "stream",
     "text": [
      "<pandas.core.groupby.DataFrameGroupBy object at 0x000001F8B7C10C88>\n",
      "            C         D\n",
      "A                      \n",
      "bar -0.848319 -0.124712\n",
      "foo -0.184861 -0.381184\n",
      "                  C         D\n",
      "A   B                        \n",
      "bar one   -0.760105 -0.016882\n",
      "    three  0.147169  0.229366\n",
      "    two   -0.235383 -0.337195\n",
      "foo one   -1.040322  0.604200\n",
      "    three -0.526427  1.966493\n",
      "    two    1.381888 -2.951876\n"
     ]
    }
   ],
   "source": [
    "# groupby groups by columns and returns a groupby object\n",
    "print(df.groupby('A'))\n",
    "\n",
    "# This has other methods that are useful\n",
    "print(df.groupby('A').sum())\n",
    "\n",
    "# Grouping by more than one column forms a hierarchical index\n",
    "print(df.groupby(['A', 'B']).sum())"
   ]
  }
 ],
 "metadata": {
  "kernelspec": {
   "display_name": "Python 3",
   "language": "python",
   "name": "python3"
  },
  "language_info": {
   "codemirror_mode": {
    "name": "ipython",
    "version": 3
   },
   "file_extension": ".py",
   "mimetype": "text/x-python",
   "name": "python",
   "nbconvert_exporter": "python",
   "pygments_lexer": "ipython3",
   "version": "3.5.1"
  }
 },
 "nbformat": 4,
 "nbformat_minor": 0
}
